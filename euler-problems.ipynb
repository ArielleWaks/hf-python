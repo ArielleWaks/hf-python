{
 "cells": [
  {
   "cell_type": "code",
   "execution_count": null,
   "id": "87c8faf8",
   "metadata": {},
   "outputs": [],
   "source": [
    "print(\"hello, world\")"
   ]
  },
  {
   "cell_type": "markdown",
   "id": "81946cb3",
   "metadata": {},
   "source": [
    "## Euler Problem 1"
   ]
  },
  {
   "cell_type": "code",
   "execution_count": null,
   "id": "155f41b5",
   "metadata": {
    "scrolled": true
   },
   "outputs": [],
   "source": [
    "sum, a = 0, 0\n",
    "while a < 1000:\n",
    "    if a % 3 == 0 or a % 5 == 0:\n",
    "        sum += a\n",
    "    a += 1\n",
    "print(sum)"
   ]
  },
  {
   "cell_type": "markdown",
   "id": "0dd182bb",
   "metadata": {},
   "source": [
    "## Fibonacci Series"
   ]
  },
  {
   "cell_type": "code",
   "execution_count": null,
   "id": "13cef1b0",
   "metadata": {},
   "outputs": [],
   "source": [
    "first, b = 0, 1\n",
    "while first < 10:\n",
    "    print(first)\n",
    "    first, b = b, first+b"
   ]
  },
  {
   "cell_type": "markdown",
   "id": "5baddc02",
   "metadata": {},
   "source": [
    "## Prime Number Search"
   ]
  },
  {
   "cell_type": "code",
   "execution_count": null,
   "id": "7f19d9a4",
   "metadata": {
    "is_executing": true
   },
   "outputs": [],
   "source": [
    "primes = []\n",
    "for n in range(2, 20):\n",
    "    for x in range(2, n):\n",
    "        if n % x == 0:\n",
    "            print(n, 'equals', x, '*', n//x)\n",
    "            break\n",
    "    else:\n",
    "        print(n, 'is a prime number')\n",
    "        primes.append(n)\n",
    "print(primes)"
   ]
  },
  {
   "cell_type": "code",
   "execution_count": null,
   "id": "b83aedd8",
   "metadata": {
    "is_executing": true
   },
   "outputs": [],
   "source": [
    "def helloWorld(name):\n",
    "    print(\"Hello,\", name)\n",
    "helloWorld(\"Theo\")"
   ]
  },
  {
   "cell_type": "code",
   "execution_count": null,
   "id": "e1aa1ee9",
   "metadata": {
    "is_executing": true
   },
   "outputs": [],
   "source": [
    "helloWorld = lambda: print(\"Hello World\")\n",
    "helloWorld()"
   ]
  },
  {
   "cell_type": "code",
   "execution_count": null,
   "id": "5142ed59",
   "metadata": {
    "is_executing": true
   },
   "outputs": [],
   "source": [
    "import datetime\n",
    "print(datetime.datetime.today().minute)"
   ]
  },
  {
   "cell_type": "markdown",
   "source": [
    "## Euler Problem 5 smallest multiple\n",
    "only have to check that it is evenly divisible by 11 to 20\n",
    "the answer will be divisible by 2520"
   ],
   "metadata": {
    "collapsed": false
   },
   "id": "d128839fdfd0b456"
  },
  {
   "cell_type": "code",
   "execution_count": null,
   "outputs": [],
   "source": [
    "largest = 1\n",
    "for n in range(11, 20):\n",
    "    largest = largest * n\n",
    "print(largest)\n",
    "\n"
   ],
   "metadata": {
    "collapsed": false
   },
   "id": "0da591cd"
  },
  {
   "cell_type": "code",
   "execution_count": null,
   "outputs": [],
   "source": [
    "def findSmallest():\n",
    "    for n in range(2520, largest, 2520):\n",
    "        for x in range(11, 21):\n",
    "            if n % x != 0:\n",
    "                break\n",
    "            if x == 20:\n",
    "                print(n)\n",
    "                return n\n",
    "\n",
    "findSmallest()\n",
    "            "
   ],
   "metadata": {
    "collapsed": false
   },
   "id": "4a5cea96c07ad93f"
  },
  {
   "cell_type": "markdown",
   "source": [
    "## Euler Problem 6 sum square difference"
   ],
   "metadata": {
    "collapsed": false
   },
   "id": "823e6e285d8e4d3c"
  },
  {
   "cell_type": "code",
   "execution_count": null,
   "outputs": [],
   "source": [
    "sumsq = 0\n",
    "for n in range(1, 101):\n",
    "    sumsq += n**2\n",
    "print(sumsq)\n",
    "\n",
    "sqsum = 0\n",
    "for x in range(1, 101):\n",
    "    sqsum += x\n",
    "print(sqsum)\n",
    "print(sqsum**2 - sumsq)"
   ],
   "metadata": {
    "collapsed": false
   },
   "id": "4c9c874db2f2607c"
  },
  {
   "cell_type": "markdown",
   "source": [
    "## Euler Problem 7 largest product in a series"
   ],
   "metadata": {
    "collapsed": false
   },
   "id": "92d26af20e08d192"
  },
  {
   "cell_type": "code",
   "execution_count": null,
   "outputs": [],
   "source": [
    "digits = \"\"\"73167176531330624919225119674426574742355349194934\n",
    "96983520312774506326239578318016984801869478851843\n",
    "85861560789112949495459501737958331952853208805511\n",
    "12540698747158523863050715693290963295227443043557\n",
    "66896648950445244523161731856403098711121722383113\n",
    "62229893423380308135336276614282806444486645238749\n",
    "30358907296290491560440772390713810515859307960866\n",
    "70172427121883998797908792274921901699720888093776\n",
    "65727333001053367881220235421809751254540594752243\n",
    "52584907711670556013604839586446706324415722155397\n",
    "53697817977846174064955149290862569321978468622482\n",
    "83972241375657056057490261407972968652414535100474\n",
    "82166370484403199890008895243450658541227588666881\n",
    "16427171479924442928230863465674813919123162824586\n",
    "17866458359124566529476545682848912883142607690042\n",
    "24219022671055626321111109370544217506941658960408\n",
    "07198403850962455444362981230987879927244284909188\n",
    "84580156166097919133875499200524063689912560717606\n",
    "05886116467109405077541002256983155200055935729725\n",
    "71636269561882670428252483600823257530420752963450\"\"\""
   ],
   "metadata": {
    "collapsed": false
   },
   "id": "c0873c8b9e0090e2"
  },
  {
   "cell_type": "markdown",
   "source": [
    "## Euler Problem 25 1000-digit fibonacci number"
   ],
   "metadata": {
    "collapsed": false
   },
   "id": "3b50c434bf0c40a6"
  },
  {
   "cell_type": "code",
   "execution_count": null,
   "outputs": [],
   "source": [
    "f1 = 1\n",
    "f2 = 1\n",
    "f3 = 2\n",
    "n = 2\n",
    "def fibLength(f):\n",
    "    return len(str(f))\n",
    "while fibLength(f2) < 1000:\n",
    "    f3 = f1 + f2\n",
    "    f1 = f2\n",
    "    f2 = f3\n",
    "    n += 1\n",
    "print(n)"
   ],
   "metadata": {
    "collapsed": false
   },
   "id": "dc31ce3a7982bc36"
  },
  {
   "cell_type": "markdown",
   "source": [
    "## Euler Problem 20 factorial digit sum"
   ],
   "metadata": {
    "collapsed": false
   },
   "id": "7218c059412c3d91"
  },
  {
   "cell_type": "code",
   "execution_count": null,
   "outputs": [],
   "source": [
    "factorialDigitSum = 0\n",
    "n = 1\n",
    "for i in range (1, 101):\n",
    "    n = n * i\n",
    "word = str(n)\n",
    "for x in range(0, len(word)):\n",
    "    factorialDigitSum += int(word[x])\n",
    "print(factorialDigitSum)"
   ],
   "metadata": {
    "collapsed": false
   },
   "id": "78d751c8bb656407"
  },
  {
   "cell_type": "markdown",
   "source": [
    "## Euler Problem 12 highly devisible triangular number\n",
    "generator for triangle numbers\n",
    "find number of factors of triangle number"
   ],
   "metadata": {
    "collapsed": false
   },
   "id": "6895441dffc1d75f"
  },
  {
   "cell_type": "code",
   "execution_count": 45,
   "outputs": [
    {
     "name": "stdout",
     "output_type": "stream",
     "text": [
      "76576500 502\n"
     ]
    }
   ],
   "source": [
    "from math import sqrt\n",
    "def triangle_number_generator():\n",
    "    natural = 1\n",
    "    triangle = 1\n",
    "    while True:\n",
    "        yield triangle\n",
    "        natural += 1\n",
    "        triangle += natural\n",
    "\n",
    "def factor_count(n):\n",
    "    cnt = 2\n",
    "    step = 1\n",
    "    start = 2\n",
    "    if n % 2 != 0:\n",
    "        step = 2\n",
    "        start = 3\n",
    "    for i in range(start, int(sqrt(n)) + 1, step):\n",
    "        if n % i == 0:\n",
    "            if n / i == i:\n",
    "                cnt += 1\n",
    "            else:\n",
    "                cnt += 2\n",
    "        if cnt > 501:\n",
    "            break\n",
    "    return cnt\n",
    "\n",
    "tri = triangle_number_generator()\n",
    "num = next(tri)\n",
    "count = factor_count(num)\n",
    "\n",
    "while count < 500:\n",
    "    num = next(tri)\n",
    "    count = factor_count(num)\n",
    "    # print(num, count)\n",
    "\n",
    "print(num, count)"
   ],
   "metadata": {
    "collapsed": false,
    "ExecuteTime": {
     "end_time": "2024-06-07T17:08:11.400393Z",
     "start_time": "2024-06-07T17:08:10.017291Z"
    }
   },
   "id": "5639f08f4c0046c0"
  },
  {
   "cell_type": "markdown",
   "source": [
    "## Euler Problem 24 lexicographic permutations\n",
    "The number starts with 2\n",
    "0 1 2 3 4 5 6 7 8 9\n",
    "2\n",
    "0 1 3 4 5 6 7 8 9\n",
    "2 7\n",
    "0 1 3 4 5 6 8 9\n",
    "2 7 8\n",
    "0 1 3 4 5 6 9\n",
    "2 7 8 3\n",
    "0 1 4 5 6 9\n",
    "2 7 8 3 9\n",
    "0 1 4 5 6\n",
    "278391\n",
    "0 4 5 6\n",
    "2783915\n",
    "0 4 6\n",
    "0 6 4\n",
    "4 0 6\n",
    "4 6 0\n",
    "2783915460"
   ],
   "metadata": {
    "collapsed": false
   },
   "id": "32fee712bbb8b968"
  },
  {
   "cell_type": "code",
   "execution_count": 18,
   "outputs": [
    {
     "name": "stdout",
     "output_type": "stream",
     "text": [
      "2.6666666666666665 4\n"
     ]
    }
   ],
   "source": [
    "import math\n",
    "# print(math.factorial(9))\n",
    "# 362880\n",
    "# print(1000000 / 362880, 1000000 % 362880)\n",
    "# 2.755731922398589 274240\n",
    "# print(math.factorial(8))\n",
    "# 40320\n",
    "# print(274240 / 40320, 274240 % 40320)\n",
    "# 6.801587301587301 32320\n",
    "# print(math.factorial(7))\n",
    "# 5040\n",
    "# print(32320 / 5040, 32320 % 5040)\n",
    "# 6.412698412698413 2080\n",
    "# print(math.factorial(6))\n",
    "# 720\n",
    "# print(2080 / 720, 2080 % 720)\n",
    "# 2.888888888888889 640\n",
    "# print(math.factorial(5))\n",
    "# 120\n",
    "# print(640 / 120, 640 % 120)\n",
    "# 5.333333333333333 40\n",
    "# print(math.factorial(4))\n",
    "# 24\n",
    "# print(40 / 24, 40 % 24)\n",
    "# 1.6666666666666667 16\n",
    "# print(math.factorial(3))\n",
    "# 6\n",
    "# print(16 / 6, 16 % 6)\n",
    "# 2.6666666666666665 4"
   ],
   "metadata": {
    "collapsed": false,
    "ExecuteTime": {
     "end_time": "2024-06-10T17:54:45.468936Z",
     "start_time": "2024-06-10T17:54:45.462880Z"
    }
   },
   "id": "daea73383ca8996f"
  },
  {
   "cell_type": "code",
   "execution_count": null,
   "outputs": [],
   "source": [],
   "metadata": {
    "collapsed": false
   },
   "id": "a4b651f278eca209"
  }
 ],
 "metadata": {
  "kernelspec": {
   "display_name": "Python 3 (ipykernel)",
   "language": "python",
   "name": "python3"
  },
  "language_info": {
   "codemirror_mode": {
    "name": "ipython",
    "version": 3
   },
   "file_extension": ".py",
   "mimetype": "text/x-python",
   "name": "python",
   "nbconvert_exporter": "python",
   "pygments_lexer": "ipython3",
   "version": "3.11.7"
  }
 },
 "nbformat": 4,
 "nbformat_minor": 5
}
