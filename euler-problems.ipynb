{
 "cells": [
  {
   "cell_type": "code",
   "execution_count": null,
   "id": "87c8faf8",
   "metadata": {},
   "outputs": [],
   "source": [
    "print(\"hello, world\")"
   ]
  },
  {
   "cell_type": "markdown",
   "id": "81946cb3",
   "metadata": {},
   "source": [
    "## Euler Problem 1"
   ]
  },
  {
   "cell_type": "code",
   "execution_count": null,
   "id": "155f41b5",
   "metadata": {
    "scrolled": true
   },
   "outputs": [],
   "source": [
    "sum, a = 0, 0\n",
    "while a < 1000:\n",
    "    if a % 3 == 0 or a % 5 == 0:\n",
    "        sum += a\n",
    "    a += 1\n",
    "print(sum)"
   ]
  },
  {
   "cell_type": "markdown",
   "id": "0dd182bb",
   "metadata": {},
   "source": [
    "## Fibonacci Series"
   ]
  },
  {
   "cell_type": "code",
   "execution_count": null,
   "id": "13cef1b0",
   "metadata": {},
   "outputs": [],
   "source": [
    "first, b = 0, 1\n",
    "while first < 10:\n",
    "    print(first)\n",
    "    first, b = b, first+b"
   ]
  },
  {
   "cell_type": "markdown",
   "id": "5baddc02",
   "metadata": {},
   "source": [
    "## Prime Number Search"
   ]
  },
  {
   "cell_type": "code",
   "execution_count": null,
   "id": "7f19d9a4",
   "metadata": {
    "is_executing": true
   },
   "outputs": [],
   "source": [
    "primes = []\n",
    "for n in range(2, 20):\n",
    "    for x in range(2, n):\n",
    "        if n % x == 0:\n",
    "            print(n, 'equals', x, '*', n//x)\n",
    "            break\n",
    "    else:\n",
    "        print(n, 'is a prime number')\n",
    "        primes.append(n)\n",
    "print(primes)"
   ]
  },
  {
   "cell_type": "code",
   "execution_count": null,
   "id": "b83aedd8",
   "metadata": {
    "is_executing": true
   },
   "outputs": [],
   "source": [
    "def helloWorld(name):\n",
    "    print(\"Hello,\", name)\n",
    "helloWorld(\"Theo\")"
   ]
  },
  {
   "cell_type": "code",
   "execution_count": null,
   "id": "e1aa1ee9",
   "metadata": {
    "is_executing": true
   },
   "outputs": [],
   "source": [
    "helloWorld = lambda: print(\"Hello World\")\n",
    "helloWorld()"
   ]
  },
  {
   "cell_type": "code",
   "execution_count": null,
   "id": "5142ed59",
   "metadata": {
    "is_executing": true
   },
   "outputs": [],
   "source": [
    "import datetime\n",
    "print(datetime.datetime.today().minute)"
   ]
  },
  {
   "cell_type": "markdown",
   "source": [
    "## Euler Problem 5 smallest multiple\n",
    "only have to check that it is evenly divisible by 11 to 20\n",
    "the answer will be divisible by 2520"
   ],
   "metadata": {
    "collapsed": false
   },
   "id": "d128839fdfd0b456"
  },
  {
   "cell_type": "code",
   "execution_count": null,
   "outputs": [],
   "source": [
    "largest = 1\n",
    "for n in range(11, 20):\n",
    "    largest = largest * n\n",
    "print(largest)\n",
    "\n"
   ],
   "metadata": {
    "collapsed": false
   },
   "id": "0da591cd"
  },
  {
   "cell_type": "code",
   "execution_count": null,
   "outputs": [],
   "source": [
    "def findSmallest():\n",
    "    for n in range(2520, largest, 2520):\n",
    "        for x in range(11, 21):\n",
    "            if n % x != 0:\n",
    "                break\n",
    "            if x == 20:\n",
    "                print(n)\n",
    "                return n\n",
    "\n",
    "findSmallest()\n",
    "            "
   ],
   "metadata": {
    "collapsed": false
   },
   "id": "4a5cea96c07ad93f"
  },
  {
   "cell_type": "markdown",
   "source": [
    "## Euler Problem 6 sum square difference"
   ],
   "metadata": {
    "collapsed": false
   },
   "id": "823e6e285d8e4d3c"
  },
  {
   "cell_type": "code",
   "execution_count": 22,
   "outputs": [
    {
     "name": "stdout",
     "output_type": "stream",
     "text": [
      "338350\n",
      "5050\n",
      "25164150\n"
     ]
    }
   ],
   "source": [
    "sumsq = 0\n",
    "for n in range(1, 101):\n",
    "    sumsq += n**2\n",
    "print(sumsq)\n",
    "\n",
    "sqsum = 0\n",
    "for x in range(1, 101):\n",
    "    sqsum += x\n",
    "print(sqsum)\n",
    "print(sqsum**2 - sumsq)"
   ],
   "metadata": {
    "collapsed": false,
    "ExecuteTime": {
     "start_time": "2024-06-03T22:50:11.691169Z"
    }
   },
   "id": "4c9c874db2f2607c"
  },
  {
   "cell_type": "code",
   "execution_count": null,
   "outputs": [],
   "source": [],
   "metadata": {
    "collapsed": false
   },
   "id": "8331e1ec7ab0123b"
  },
  {
   "cell_type": "code",
   "execution_count": null,
   "outputs": [],
   "source": [],
   "metadata": {
    "collapsed": false
   },
   "id": "c0873c8b9e0090e2"
  }
 ],
 "metadata": {
  "kernelspec": {
   "display_name": "Python 3 (ipykernel)",
   "language": "python",
   "name": "python3"
  },
  "language_info": {
   "codemirror_mode": {
    "name": "ipython",
    "version": 3
   },
   "file_extension": ".py",
   "mimetype": "text/x-python",
   "name": "python",
   "nbconvert_exporter": "python",
   "pygments_lexer": "ipython3",
   "version": "3.11.7"
  }
 },
 "nbformat": 4,
 "nbformat_minor": 5
}
