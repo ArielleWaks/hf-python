{
 "cells": [
  {
   "cell_type": "code",
   "execution_count": null,
   "id": "87c8faf8",
   "metadata": {},
   "outputs": [],
   "source": [
    "print(\"hello, world\")"
   ]
  },
  {
   "cell_type": "markdown",
   "id": "81946cb3",
   "metadata": {},
   "source": [
    "## Euler Problem 1"
   ]
  },
  {
   "cell_type": "code",
   "execution_count": null,
   "id": "155f41b5",
   "metadata": {
    "scrolled": true
   },
   "outputs": [],
   "source": [
    "sum, a = 0, 0\n",
    "while a < 1000:\n",
    "    if a % 3 == 0 or a % 5 == 0:\n",
    "        sum += a\n",
    "    a += 1\n",
    "print(sum)"
   ]
  },
  {
   "cell_type": "markdown",
   "id": "0dd182bb",
   "metadata": {},
   "source": [
    "## Fibonacci Series"
   ]
  },
  {
   "cell_type": "code",
   "execution_count": null,
   "id": "13cef1b0",
   "metadata": {},
   "outputs": [],
   "source": [
    "first, b = 0, 1\n",
    "while first < 10:\n",
    "    print(first)\n",
    "    first, b = b, first+b"
   ]
  },
  {
   "cell_type": "markdown",
   "id": "5baddc02",
   "metadata": {},
   "source": [
    "## Prime Number Search"
   ]
  },
  {
   "cell_type": "code",
   "execution_count": null,
   "id": "7f19d9a4",
   "metadata": {
    "is_executing": true
   },
   "outputs": [],
   "source": [
    "primes = []\n",
    "for n in range(2, 20):\n",
    "    for x in range(2, n):\n",
    "        if n % x == 0:\n",
    "            print(n, 'equals', x, '*', n//x)\n",
    "            break\n",
    "    else:\n",
    "        print(n, 'is a prime number')\n",
    "        primes.append(n)\n",
    "print(primes)"
   ]
  },
  {
   "cell_type": "code",
   "execution_count": null,
   "id": "b83aedd8",
   "metadata": {
    "is_executing": true
   },
   "outputs": [],
   "source": [
    "def helloWorld(name):\n",
    "    print(\"Hello,\", name)\n",
    "helloWorld(\"Theo\")"
   ]
  },
  {
   "cell_type": "code",
   "execution_count": null,
   "id": "e1aa1ee9",
   "metadata": {
    "is_executing": true
   },
   "outputs": [],
   "source": [
    "helloWorld = lambda: print(\"Hello World\")\n",
    "helloWorld()"
   ]
  },
  {
   "cell_type": "code",
   "execution_count": null,
   "id": "5142ed59",
   "metadata": {
    "is_executing": true
   },
   "outputs": [],
   "source": [
    "import datetime\n",
    "print(datetime.datetime.today().minute)"
   ]
  },
  {
   "cell_type": "markdown",
   "source": [
    "## Euler Problem 5 smallest multiple\n",
    "only have to check that it is evenly divisible by 11 to 20\n",
    "the answer will be divisible by 2520"
   ],
   "metadata": {
    "collapsed": false
   },
   "id": "d128839fdfd0b456"
  },
  {
   "cell_type": "code",
   "execution_count": null,
   "outputs": [],
   "source": [
    "largest = 1\n",
    "for n in range(11, 20):\n",
    "    largest = largest * n\n",
    "print(largest)\n",
    "\n"
   ],
   "metadata": {
    "collapsed": false
   },
   "id": "0da591cd"
  },
  {
   "cell_type": "code",
   "execution_count": null,
   "outputs": [],
   "source": [
    "def findSmallest():\n",
    "    for n in range(2520, largest, 2520):\n",
    "        for x in range(11, 21):\n",
    "            if n % x != 0:\n",
    "                break\n",
    "            if x == 20:\n",
    "                print(n)\n",
    "                return n\n",
    "\n",
    "findSmallest()\n",
    "            "
   ],
   "metadata": {
    "collapsed": false
   },
   "id": "4a5cea96c07ad93f"
  },
  {
   "cell_type": "markdown",
   "source": [
    "## Euler Problem 6 sum square difference"
   ],
   "metadata": {
    "collapsed": false
   },
   "id": "823e6e285d8e4d3c"
  },
  {
   "cell_type": "code",
   "execution_count": null,
   "outputs": [],
   "source": [
    "sumsq = 0\n",
    "for n in range(1, 101):\n",
    "    sumsq += n**2\n",
    "print(sumsq)\n",
    "\n",
    "sqsum = 0\n",
    "for x in range(1, 101):\n",
    "    sqsum += x\n",
    "print(sqsum)\n",
    "print(sqsum**2 - sumsq)"
   ],
   "metadata": {
    "collapsed": false
   },
   "id": "4c9c874db2f2607c"
  },
  {
   "cell_type": "markdown",
   "source": [
    "## Euler Problem 25 1000-digit fibonacci number"
   ],
   "metadata": {
    "collapsed": false
   },
   "id": "3b50c434bf0c40a6"
  },
  {
   "cell_type": "code",
   "execution_count": null,
   "outputs": [],
   "source": [
    "f1 = 1\n",
    "f2 = 1\n",
    "f3 = 2\n",
    "n = 2\n",
    "def fibLength(f):\n",
    "    return len(str(f))\n",
    "while fibLength(f2) < 1000:\n",
    "    f3 = f1 + f2\n",
    "    f1 = f2\n",
    "    f2 = f3\n",
    "    n += 1\n",
    "print(n)"
   ],
   "metadata": {
    "collapsed": false
   },
   "id": "dc31ce3a7982bc36"
  },
  {
   "cell_type": "markdown",
   "source": [
    "## Euler Problem 20 factorial digit sum"
   ],
   "metadata": {
    "collapsed": false
   },
   "id": "7218c059412c3d91"
  },
  {
   "cell_type": "code",
   "execution_count": null,
   "outputs": [],
   "source": [
    "factorialDigitSum = 0\n",
    "n = 1\n",
    "for i in range (1, 101):\n",
    "    n = n * i\n",
    "word = str(n)\n",
    "for x in range(0, len(word)):\n",
    "    factorialDigitSum += int(word[x])\n",
    "print(factorialDigitSum)"
   ],
   "metadata": {
    "collapsed": false
   },
   "id": "78d751c8bb656407"
  },
  {
   "cell_type": "markdown",
   "source": [
    "## Euler Problem 12 highly devisible triangular number\n",
    "generator for triangle numbers\n",
    "find number of factors of triangle number"
   ],
   "metadata": {
    "collapsed": false
   },
   "id": "6895441dffc1d75f"
  },
  {
   "cell_type": "code",
   "execution_count": null,
   "outputs": [],
   "source": [
    "from math import sqrt\n",
    "def triangle_number_generator():\n",
    "    natural = 1\n",
    "    triangle = 1\n",
    "    while True:\n",
    "        yield triangle\n",
    "        natural += 1\n",
    "        triangle += natural\n",
    "\n",
    "def factor_count(n):\n",
    "    cnt = 2\n",
    "    step = 1\n",
    "    start = 2\n",
    "    if n % 2 != 0:\n",
    "        step = 2\n",
    "        start = 3\n",
    "    for i in range(start, int(sqrt(n)) + 1, step):\n",
    "        if n % i == 0:\n",
    "            if n / i == i:\n",
    "                cnt += 1\n",
    "            else:\n",
    "                cnt += 2\n",
    "        if cnt > 501:\n",
    "            break\n",
    "    return cnt\n",
    "\n",
    "tri = triangle_number_generator()\n",
    "num = next(tri)\n",
    "count = factor_count(num)\n",
    "\n",
    "while count < 500:\n",
    "    num = next(tri)\n",
    "    count = factor_count(num)\n",
    "    # print(num, count)\n",
    "\n",
    "print(num, count)"
   ],
   "metadata": {
    "collapsed": false
   },
   "id": "5639f08f4c0046c0"
  },
  {
   "cell_type": "markdown",
   "source": [
    "## Euler Problem 24 lexicographic permutations\n",
    "The number starts with 2\n",
    "0 1 2 3 4 5 6 7 8 9\n",
    "2\n",
    "0 1 3 4 5 6 7 8 9\n",
    "2 7\n",
    "0 1 3 4 5 6 8 9\n",
    "2 7 8\n",
    "0 1 3 4 5 6 9\n",
    "2 7 8 3\n",
    "0 1 4 5 6 9\n",
    "2 7 8 3 9\n",
    "0 1 4 5 6\n",
    "278391\n",
    "0 4 5 6\n",
    "2783915\n",
    "0 4 6\n",
    "0 6 4\n",
    "4 0 6\n",
    "4 6 0\n",
    "2783915460"
   ],
   "metadata": {
    "collapsed": false
   },
   "id": "32fee712bbb8b968"
  },
  {
   "cell_type": "code",
   "execution_count": null,
   "outputs": [],
   "source": [
    "import math\n",
    "digits = [0, 1, 2, 3, 4, 5, 6, 7, 8, 9]\n",
    "target = 1000000\n",
    "answer = []\n",
    "num = len(digits)\n",
    "factorialNum = math.factorial(num)\n",
    "# if factorialNum < target:\n",
    "#     answer.append(digits[target // factorialNum])\n",
    "#     digits.pop(target // factorialNum)\n",
    "#     target = target % factorialNum\n",
    "while len(digits) > 3:\n",
    "    target = target % factorialNum\n",
    "    num = num - 1\n",
    "    factorialNum = math.factorial(num)\n",
    "    answer.append(digits[target // factorialNum])\n",
    "    digits.pop(target // factorialNum) \n",
    "    print(target, num, factorialNum, (target // factorialNum), (target % factorialNum), digits, answer)\n",
    "target = target % factorialNum\n",
    "\n",
    "        \n",
    "# print(digits, target, answer, factorialNum, num)\n",
    "# print(math.factorial(9))\n",
    "# 362880\n",
    "# print(1000000 / 362880, 1000000 % 362880)\n",
    "# 2.755731922398589 274240\n",
    "# print(math.factorial(8))\n",
    "# 40320\n",
    "# print(274240 / 40320, 274240 % 40320)\n",
    "# 6.801587301587301 32320\n",
    "# print(math.factorial(7))\n",
    "# 5040\n",
    "# print(32320 / 5040, 32320 % 5040)\n",
    "# 6.412698412698413 2080\n",
    "# print(math.factorial(6))\n",
    "# 720\n",
    "# print(2080 / 720, 2080 % 720)\n",
    "# 2.888888888888889 640\n",
    "# print(math.factorial(5))\n",
    "# 120\n",
    "# print(640 / 120, 640 % 120)\n",
    "# 5.333333333333333 40\n",
    "# print(math.factorial(4))\n",
    "# 24\n",
    "# print(40 / 24, 40 % 24)\n",
    "# 1.6666666666666667 16\n",
    "# print(math.factorial(3))\n",
    "# 6\n",
    "# print(16 / 6, 16 % 6)\n",
    "# 2.6666666666666665 4"
   ],
   "metadata": {
    "collapsed": false
   },
   "id": "daea73383ca8996f"
  },
  {
   "cell_type": "markdown",
   "source": [
    "## Project Euler 29 Distinct Powers"
   ],
   "metadata": {
    "collapsed": false
   },
   "id": "4f27ff3c93443d47"
  },
  {
   "cell_type": "code",
   "execution_count": 3,
   "outputs": [
    {
     "name": "stdout",
     "output_type": "stream",
     "text": [
      "9183\n"
     ]
    }
   ],
   "source": [
    "powers = set(())\n",
    "for a in range(2,101):\n",
    "    for b in range(2, 101):\n",
    "        powers.add(a**b)\n",
    "        \n",
    "print(len(powers))"
   ],
   "metadata": {
    "collapsed": false,
    "ExecuteTime": {
     "end_time": "2024-06-17T22:03:26.079710Z",
     "start_time": "2024-06-17T22:03:26.073915Z"
    }
   },
   "id": "7a0047f4330b3e6b"
  },
  {
   "cell_type": "code",
   "execution_count": 14,
   "outputs": [
    {
     "name": "stdout",
     "output_type": "stream",
     "text": [
      "176.0\n",
      "[1, 5.0, 12.0, 22.0, 35.0, 51.0, 70.0, 92.0, 117.0, 145.0, 176.0, 210.0, 247.0, 287.0, 330.0, 376.0, 425.0, 477.0, 532.0, 590.0, 651.0, 715.0, 782.0, 852.0, 925.0, 1001.0, 1080.0, 1162.0, 1247.0, 1335.0, 1426.0, 1520.0, 1617.0, 1717.0, 1820.0, 1926.0, 2035.0, 2147.0, 2262.0]\n",
      "[1, 4, 7, 10, 13, 16, 19, 22, 25, 28, 31, 34, 37, 40, 43, 46, 49, 52, 55, 58, 61, 64, 67, 70, 73, 76, 79, 82, 85, 88, 91, 94, 97, 100, 103, 106, 109, 112, 115]\n"
     ]
    }
   ],
   "source": [
    "print(11*32/2)\n",
    "pentagonal = [1]\n",
    "test = [1]\n",
    "a = 4\n",
    "for n in range(2,40):\n",
    "    pentagonal.append(n*(3 * n - 1) / 2)\n",
    "    test.append(a)\n",
    "    a += 3\n",
    "print(pentagonal)\n",
    "print(test)\n"
   ],
   "metadata": {
    "collapsed": false,
    "ExecuteTime": {
     "end_time": "2024-06-17T22:33:01.602218Z",
     "start_time": "2024-06-17T22:33:01.578286Z"
    }
   },
   "id": "aaab07c455fcd3be"
  },
  {
   "cell_type": "code",
   "execution_count": 13,
   "outputs": [
    {
     "name": "stdout",
     "output_type": "stream",
     "text": [
      "1634\n"
     ]
    }
   ],
   "source": [
    "print(782+852)"
   ],
   "metadata": {
    "collapsed": false,
    "ExecuteTime": {
     "end_time": "2024-06-17T22:32:39.117153Z",
     "start_time": "2024-06-17T22:32:39.095688Z"
    }
   },
   "id": "7df7ccb8fa5e81ef"
  },
  {
   "cell_type": "markdown",
   "source": [
    "## Project Euler 8 Largest Product in a Series"
   ],
   "metadata": {
    "collapsed": false
   },
   "id": "8279563d94a0f045"
  },
  {
   "cell_type": "code",
   "execution_count": 8,
   "outputs": [
    {
     "name": "stdout",
     "output_type": "stream",
     "text": [
      "23514624000\n"
     ]
    }
   ],
   "source": [
    "import math\n",
    "\n",
    "n = \"\"\"73167176531330624919225119674426574742355349194934\n",
    "96983520312774506326239578318016984801869478851843\n",
    "85861560789112949495459501737958331952853208805511\n",
    "12540698747158523863050715693290963295227443043557\n",
    "66896648950445244523161731856403098711121722383113\n",
    "62229893423380308135336276614282806444486645238749\n",
    "30358907296290491560440772390713810515859307960866\n",
    "70172427121883998797908792274921901699720888093776\n",
    "65727333001053367881220235421809751254540594752243\n",
    "52584907711670556013604839586446706324415722155397\n",
    "53697817977846174064955149290862569321978468622482\n",
    "83972241375657056057490261407972968652414535100474\n",
    "82166370484403199890008895243450658541227588666881\n",
    "16427171479924442928230863465674813919123162824586\n",
    "17866458359124566529476545682848912883142607690042\n",
    "24219022671055626321111109370544217506941658960408\n",
    "07198403850962455444362981230987879927244284909188\n",
    "84580156166097919133875499200524063689912560717606\n",
    "05886116467109405077541002256983155200055935729725\n",
    "71636269561882670428252483600823257530420752963450\"\"\"\n",
    "\n",
    "digits = n.replace('\\n', '')\n",
    "\n",
    "series = list(map(int, digits))\n",
    "\n",
    "largest_product = 1\n",
    "    \n",
    "i = 0\n",
    "j = i + 13\n",
    "while i < len(series) - 13:\n",
    "    product = math.prod(series[i:j])\n",
    "    if product > largest_product:\n",
    "        largest_product = product\n",
    "    i = i + 1\n",
    "    j = i + 13\n",
    "\n",
    "print(largest_product)\n"
   ],
   "metadata": {
    "collapsed": false,
    "ExecuteTime": {
     "end_time": "2024-07-30T20:28:16.941866Z",
     "start_time": "2024-07-30T20:28:16.937068Z"
    }
   },
   "id": "a4c302c161afa4a1"
  },
  {
   "cell_type": "markdown",
   "source": [
    "## Project Euler 9 Special Pythagorean Triplet"
   ],
   "metadata": {
    "collapsed": false
   },
   "id": "77ca030ee54622d7"
  },
  {
   "cell_type": "code",
   "execution_count": 18,
   "outputs": [
    {
     "name": "stdout",
     "output_type": "stream",
     "text": [
      "31875000.0\n"
     ]
    }
   ],
   "source": [
    "from math import sqrt\n",
    "def triplet_sum(a, b):\n",
    "    c = sqrt(a**2 + b**2)\n",
    "    return a+b+c\n",
    "# print(triplet_sum(3, 4))\n",
    "\n",
    "for x in range(1, 1000):\n",
    "    for y in range(x+1, 1001):\n",
    "        if triplet_sum(x, y) == 1000:\n",
    "            print(x * y * sqrt(x**2 + y**2))\n",
    "            break"
   ],
   "metadata": {
    "collapsed": false,
    "ExecuteTime": {
     "end_time": "2024-07-31T15:01:50.732787Z",
     "start_time": "2024-07-31T15:01:50.689428Z"
    }
   },
   "id": "3ebc91609513463d"
  },
  {
   "cell_type": "markdown",
   "source": [
    "## Project Euler 13 Large Sum"
   ],
   "metadata": {
    "collapsed": false
   },
   "id": "721d7b6ee3d581c4"
  },
  {
   "cell_type": "code",
   "execution_count": 1,
   "outputs": [
    {
     "name": "stdout",
     "output_type": "stream",
     "text": [
      "5537376230\n"
     ]
    }
   ],
   "source": [
    "numbers_string = \"\"\"37107287533902102798797998220837590246510135740250\n",
    "46376937677490009712648124896970078050417018260538\n",
    "74324986199524741059474233309513058123726617309629\n",
    "91942213363574161572522430563301811072406154908250\n",
    "23067588207539346171171980310421047513778063246676\n",
    "89261670696623633820136378418383684178734361726757\n",
    "28112879812849979408065481931592621691275889832738\n",
    "44274228917432520321923589422876796487670272189318\n",
    "47451445736001306439091167216856844588711603153276\n",
    "70386486105843025439939619828917593665686757934951\n",
    "62176457141856560629502157223196586755079324193331\n",
    "64906352462741904929101432445813822663347944758178\n",
    "92575867718337217661963751590579239728245598838407\n",
    "58203565325359399008402633568948830189458628227828\n",
    "80181199384826282014278194139940567587151170094390\n",
    "35398664372827112653829987240784473053190104293586\n",
    "86515506006295864861532075273371959191420517255829\n",
    "71693888707715466499115593487603532921714970056938\n",
    "54370070576826684624621495650076471787294438377604\n",
    "53282654108756828443191190634694037855217779295145\n",
    "36123272525000296071075082563815656710885258350721\n",
    "45876576172410976447339110607218265236877223636045\n",
    "17423706905851860660448207621209813287860733969412\n",
    "81142660418086830619328460811191061556940512689692\n",
    "51934325451728388641918047049293215058642563049483\n",
    "62467221648435076201727918039944693004732956340691\n",
    "15732444386908125794514089057706229429197107928209\n",
    "55037687525678773091862540744969844508330393682126\n",
    "18336384825330154686196124348767681297534375946515\n",
    "80386287592878490201521685554828717201219257766954\n",
    "78182833757993103614740356856449095527097864797581\n",
    "16726320100436897842553539920931837441497806860984\n",
    "48403098129077791799088218795327364475675590848030\n",
    "87086987551392711854517078544161852424320693150332\n",
    "59959406895756536782107074926966537676326235447210\n",
    "69793950679652694742597709739166693763042633987085\n",
    "41052684708299085211399427365734116182760315001271\n",
    "65378607361501080857009149939512557028198746004375\n",
    "35829035317434717326932123578154982629742552737307\n",
    "94953759765105305946966067683156574377167401875275\n",
    "88902802571733229619176668713819931811048770190271\n",
    "25267680276078003013678680992525463401061632866526\n",
    "36270218540497705585629946580636237993140746255962\n",
    "24074486908231174977792365466257246923322810917141\n",
    "91430288197103288597806669760892938638285025333403\n",
    "34413065578016127815921815005561868836468420090470\n",
    "23053081172816430487623791969842487255036638784583\n",
    "11487696932154902810424020138335124462181441773470\n",
    "63783299490636259666498587618221225225512486764533\n",
    "67720186971698544312419572409913959008952310058822\n",
    "95548255300263520781532296796249481641953868218774\n",
    "76085327132285723110424803456124867697064507995236\n",
    "37774242535411291684276865538926205024910326572967\n",
    "23701913275725675285653248258265463092207058596522\n",
    "29798860272258331913126375147341994889534765745501\n",
    "18495701454879288984856827726077713721403798879715\n",
    "38298203783031473527721580348144513491373226651381\n",
    "34829543829199918180278916522431027392251122869539\n",
    "40957953066405232632538044100059654939159879593635\n",
    "29746152185502371307642255121183693803580388584903\n",
    "41698116222072977186158236678424689157993532961922\n",
    "62467957194401269043877107275048102390895523597457\n",
    "23189706772547915061505504953922979530901129967519\n",
    "86188088225875314529584099251203829009407770775672\n",
    "11306739708304724483816533873502340845647058077308\n",
    "82959174767140363198008187129011875491310547126581\n",
    "97623331044818386269515456334926366572897563400500\n",
    "42846280183517070527831839425882145521227251250327\n",
    "55121603546981200581762165212827652751691296897789\n",
    "32238195734329339946437501907836945765883352399886\n",
    "75506164965184775180738168837861091527357929701337\n",
    "62177842752192623401942399639168044983993173312731\n",
    "32924185707147349566916674687634660915035914677504\n",
    "99518671430235219628894890102423325116913619626622\n",
    "73267460800591547471830798392868535206946944540724\n",
    "76841822524674417161514036427982273348055556214818\n",
    "97142617910342598647204516893989422179826088076852\n",
    "87783646182799346313767754307809363333018982642090\n",
    "10848802521674670883215120185883543223812876952786\n",
    "71329612474782464538636993009049310363619763878039\n",
    "62184073572399794223406235393808339651327408011116\n",
    "66627891981488087797941876876144230030984490851411\n",
    "60661826293682836764744779239180335110989069790714\n",
    "85786944089552990653640447425576083659976645795096\n",
    "66024396409905389607120198219976047599490197230297\n",
    "64913982680032973156037120041377903785566085089252\n",
    "16730939319872750275468906903707539413042652315011\n",
    "94809377245048795150954100921645863754710598436791\n",
    "78639167021187492431995700641917969777599028300699\n",
    "15368713711936614952811305876380278410754449733078\n",
    "40789923115535562561142322423255033685442488917353\n",
    "44889911501440648020369068063960672322193204149535\n",
    "41503128880339536053299340368006977710650566631954\n",
    "81234880673210146739058568557934581403627822703280\n",
    "82616570773948327592232845941706525094512325230608\n",
    "22918802058777319719839450180888072429661980811197\n",
    "77158542502016545090413245809786882778948721859617\n",
    "72107838435069186155435662884062257473692284509516\n",
    "20849603980134001723930671666823555245252804609722\n",
    "53503534226472524250874054075591789781264330331690\"\"\"\n",
    "\n",
    "split_nums = numbers_string.strip().split('\\n')\n",
    "\n",
    "split_ints = map(int, split_nums)\n",
    "\n",
    "int_sum = sum(split_ints)\n",
    "\n",
    "string_sum = str(int_sum)\n",
    "\n",
    "print(string_sum[:10])"
   ],
   "metadata": {
    "collapsed": false,
    "ExecuteTime": {
     "end_time": "2024-08-01T23:09:42.778756Z",
     "start_time": "2024-08-01T23:09:42.757737Z"
    }
   },
   "id": "558bcad3673eb115"
  },
  {
   "cell_type": "markdown",
   "source": [
    "## Project Euler 16 Power Digit Sum\n",
    "Convert a number to a string; for each character, convert it to an int and add it to a total"
   ],
   "metadata": {
    "collapsed": false
   },
   "id": "1ef513e55596a729"
  },
  {
   "cell_type": "code",
   "execution_count": 6,
   "outputs": [
    {
     "name": "stdout",
     "output_type": "stream",
     "text": [
      "1366\n"
     ]
    }
   ],
   "source": [
    "def sumDigits(n):\n",
    "    string_n = str(n)\n",
    "    total = 0\n",
    "    for c in range (0, len(string_n)):\n",
    "        total += int(string_n[c])\n",
    "    return total\n",
    "pds = 2**1000\n",
    "print(sumDigits(pds))"
   ],
   "metadata": {
    "collapsed": false,
    "ExecuteTime": {
     "end_time": "2024-08-05T23:26:46.463924Z",
     "start_time": "2024-08-05T23:26:46.455100Z"
    }
   },
   "id": "c5d7aae097e8e7ef"
  },
  {
   "cell_type": "code",
   "execution_count": 8,
   "outputs": [
    {
     "data": {
      "text/plain": "1366"
     },
     "execution_count": 8,
     "metadata": {},
     "output_type": "execute_result"
    }
   ],
   "source": [
    "from functools import reduce\n",
    "\n",
    "reduce(lambda x, y: x + y, [int(i) for i in str(2 ** 1000)])"
   ],
   "metadata": {
    "collapsed": false,
    "ExecuteTime": {
     "end_time": "2024-08-05T23:44:02.975239Z",
     "start_time": "2024-08-05T23:44:02.970525Z"
    }
   },
   "id": "84eb207496e9b989"
  },
  {
   "cell_type": "markdown",
   "source": [],
   "metadata": {
    "collapsed": false
   },
   "id": "f62ac546f0cc5ff2"
  },
  {
   "cell_type": "markdown",
   "source": [
    "## Project Euler 14 Longest Collatz Sequence"
   ],
   "metadata": {
    "collapsed": false
   },
   "id": "2eca5021f16c1c3b"
  },
  {
   "cell_type": "code",
   "execution_count": null,
   "outputs": [],
   "source": [],
   "metadata": {
    "collapsed": false
   },
   "id": "c12d11087cd5b018"
  }
 ],
 "metadata": {
  "kernelspec": {
   "display_name": "Python 3 (ipykernel)",
   "language": "python",
   "name": "python3"
  },
  "language_info": {
   "codemirror_mode": {
    "name": "ipython",
    "version": 3
   },
   "file_extension": ".py",
   "mimetype": "text/x-python",
   "name": "python",
   "nbconvert_exporter": "python",
   "pygments_lexer": "ipython3",
   "version": "3.11.7"
  }
 },
 "nbformat": 4,
 "nbformat_minor": 5
}
